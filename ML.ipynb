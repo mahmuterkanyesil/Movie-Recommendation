{
 "cells": [
  {
   "cell_type": "markdown",
   "id": "6bb743c8-987b-4aab-bd57-e3b63ab0e530",
   "metadata": {},
   "source": [
    "<h3>Imports<h3>"
   ]
  },
  {
   "cell_type": "code",
   "execution_count": 64,
   "id": "74b5dc3d-b7f1-40bc-81f6-156780700e3b",
   "metadata": {},
   "outputs": [],
   "source": [
    "from pyspark.sql import SparkSession\n",
    "from pyspark.ml.feature import *\n",
    "from pyspark.sql import SparkSession, SQLContext\n",
    "from pyspark import SparkContext, SparkConf\n",
    "from pyspark.sql.functions import *"
   ]
  },
  {
   "cell_type": "markdown",
   "id": "a268290f-8a12-4c5c-a473-2813b27a9f3c",
   "metadata": {},
   "source": [
    "<h3>Configs<h3>"
   ]
  },
  {
   "cell_type": "code",
   "execution_count": 2,
   "id": "fd3eb38e-2320-4898-8503-164a9c619eda",
   "metadata": {},
   "outputs": [],
   "source": [
    "spark = SparkSession.builder.master(\"local[*]\").getOrCreate()\n",
    "spark.conf.set(\"spark.sql.repl.eagerEval.enabled\", True)\n",
    "\n",
    "conf = SparkConf() \\\n",
    ".setAppName('app') \\\n",
    ".setMaster(\"local[*]\")\n",
    "\n",
    "sc = SparkContext.getOrCreate(conf=conf)"
   ]
  },
  {
   "cell_type": "markdown",
   "id": "192f4e16-b077-4397-bbe2-9b1730020b64",
   "metadata": {},
   "source": [
    "<h3>Read Data<h3>"
   ]
  },
  {
   "cell_type": "code",
   "execution_count": 3,
   "id": "c66c617e-3421-4571-886f-44f71c7b64f0",
   "metadata": {},
   "outputs": [],
   "source": [
    "moviesDf  = spark.read.format(\"csv\").load(\"movies.csv\",  header=True).cache()\n",
    "ratingsDf = spark.read.format(\"csv\").load(\"ratings.csv\", header=True).cache()"
   ]
  },
  {
   "cell_type": "code",
   "execution_count": 92,
   "id": "ea3995ba-9e20-43e0-9d96-77647d5b283a",
   "metadata": {},
   "outputs": [],
   "source": [
    "metadata_all = moviesDf.join(ratingsDf, moviesDf.movieId == ratingsDf.movieId) \\\n",
    "    .select(ratingsDf.userId, moviesDf.movieId, ratingsDf.rating, moviesDf.genres, moviesDf.title )"
   ]
  },
  {
   "cell_type": "code",
   "execution_count": 4,
   "id": "d231b4f1-434d-4b0a-b2c8-0b1b01dbc867",
   "metadata": {},
   "outputs": [],
   "source": [
    "movie_ratings = moviesDf.join(ratingsDf, moviesDf.movieId == ratingsDf.movieId) \\\n",
    "    .select(ratingsDf.userId, moviesDf.movieId, ratingsDf.rating)"
   ]
  },
  {
   "cell_type": "markdown",
   "id": "f169b68b-1faa-40dc-a98e-3574150c58eb",
   "metadata": {},
   "source": [
    "<h3>Type Casting<h3>"
   ]
  },
  {
   "cell_type": "code",
   "execution_count": 6,
   "id": "8f4a1726-0695-4af2-b348-ca0d43b39075",
   "metadata": {},
   "outputs": [],
   "source": [
    "movie_ratings = movie_ratings.withColumn(\"userId\",movie_ratings.userId.cast(\"int\"))\n",
    "movie_ratings = movie_ratings.withColumn(\"movieId\",movie_ratings.movieId.cast(\"int\"))\n",
    "movie_ratings = movie_ratings.withColumn(\"rating\",movie_ratings.rating.cast(\"double\"))"
   ]
  },
  {
   "cell_type": "code",
   "execution_count": 7,
   "id": "118bdc58-7832-4144-9562-e946021cb5ec",
   "metadata": {},
   "outputs": [
    {
     "data": {
      "text/plain": [
       "[('userId', 'int'), ('movieId', 'int'), ('rating', 'double')]"
      ]
     },
     "execution_count": 7,
     "metadata": {},
     "output_type": "execute_result"
    }
   ],
   "source": [
    "movie_ratings.dtypes"
   ]
  },
  {
   "cell_type": "markdown",
   "id": "8679103c-f5e9-4fd4-8f3a-be7b5ca3c504",
   "metadata": {},
   "source": [
    "<h3>Sparsity Func<h3>"
   ]
  },
  {
   "cell_type": "code",
   "execution_count": 9,
   "id": "94a997bc-1864-4b92-b1c2-0ec872dcbd4b",
   "metadata": {},
   "outputs": [],
   "source": [
    "def get_mat_sparsity(ratings):\n",
    "    # Count the total number of ratings in the dataset\n",
    "    count_nonzero = ratings.select(\"rating\").count()\n",
    "\n",
    "    # Count the number of distinct userIds and distinct movieIds\n",
    "    total_elements = ratings.select(\"userId\").distinct().count() * ratings.select(\"movieId\").distinct().count()\n",
    "\n",
    "    # Divide the numerator by the denominator\n",
    "    sparsity = (1.0 - (count_nonzero *1.0)/total_elements)*100\n",
    "    print(\"The ratings dataframe is \", \"%.2f\" % sparsity + \"% sparse.\")\n",
    "    \n"
   ]
  },
  {
   "cell_type": "code",
   "execution_count": 10,
   "id": "545601a1-d8aa-4076-8bc3-9e1b0586f8b6",
   "metadata": {},
   "outputs": [
    {
     "name": "stdout",
     "output_type": "stream",
     "text": [
      "The ratings dataframe is  98.34% sparse.\n"
     ]
    }
   ],
   "source": [
    "get_mat_sparsity(movie_ratings)"
   ]
  },
  {
   "cell_type": "markdown",
   "id": "a97c9ed9-ddb5-449a-9b86-2e14a87b808a",
   "metadata": {},
   "source": [
    "<h3>Train and Test<h3>"
   ]
  },
  {
   "cell_type": "code",
   "execution_count": 13,
   "id": "343f0145-e7e2-43bb-b652-7034ce8a75f1",
   "metadata": {},
   "outputs": [],
   "source": [
    "(train, test) = movie_ratings.randomSplit([0.8, 0.2], seed = 2020)"
   ]
  },
  {
   "cell_type": "markdown",
   "id": "798d9bc4-c519-4795-8733-df1aa7e84e03",
   "metadata": {},
   "source": [
    "<h3>ALS Configrations<h3>"
   ]
  },
  {
   "cell_type": "code",
   "execution_count": 16,
   "id": "95afe97a-41fd-41f0-96c6-74bd63b898a0",
   "metadata": {},
   "outputs": [],
   "source": [
    "from pyspark.ml.evaluation import RegressionEvaluator\n",
    "from pyspark.ml.recommendation import ALS\n",
    "from pyspark.ml.tuning import ParamGridBuilder, CrossValidator\n",
    "\n",
    "als = ALS(\n",
    "         userCol=\"userId\", \n",
    "         itemCol=\"movieId\",\n",
    "         ratingCol=\"rating\", \n",
    "         nonnegative = True, \n",
    "         implicitPrefs = False,\n",
    "         coldStartStrategy=\"drop\"\n",
    ")"
   ]
  },
  {
   "cell_type": "code",
   "execution_count": 17,
   "id": "a96fba88-c27b-4379-8419-80b9366a88f8",
   "metadata": {},
   "outputs": [],
   "source": [
    "\n",
    "from pyspark.ml.tuning import ParamGridBuilder, CrossValidator\n",
    "from pyspark.ml.evaluation import RegressionEvaluator"
   ]
  },
  {
   "cell_type": "markdown",
   "id": "b7fe6553-1411-47cd-a9cc-4b247955f573",
   "metadata": {},
   "source": [
    "<h3>Param Grid Configartions<h3>"
   ]
  },
  {
   "cell_type": "code",
   "execution_count": 18,
   "id": "a977b732-7bac-47a4-a0a3-beabad627a75",
   "metadata": {},
   "outputs": [],
   "source": [
    "param_grid = ParamGridBuilder() \\\n",
    "            .addGrid(als.rank, [10, 50, 100, 150]) \\\n",
    "            .addGrid(als.regParam, [.01, .05, .1, .15]) \\\n",
    "            .build()"
   ]
  },
  {
   "cell_type": "markdown",
   "id": "b6e2d9c7-6460-4ea3-bd03-52363ce5f1a4",
   "metadata": {},
   "source": [
    "<h3>Regression Evulator Configrations<h3>"
   ]
  },
  {
   "cell_type": "code",
   "execution_count": 19,
   "id": "bc6d72ed-6ec7-4e97-a8ec-dd6e01884075",
   "metadata": {},
   "outputs": [
    {
     "name": "stdout",
     "output_type": "stream",
     "text": [
      "Num models to be tested:  16\n"
     ]
    }
   ],
   "source": [
    "evaluator = RegressionEvaluator(\n",
    "           metricName=\"rmse\", \n",
    "           labelCol=\"rating\", \n",
    "           predictionCol=\"prediction\") \n",
    "print (\"Num models to be tested: \", len(param_grid))"
   ]
  },
  {
   "cell_type": "markdown",
   "id": "aa611d54",
   "metadata": {},
   "source": [
    "<h3>Cross Validator<h3>"
   ]
  },
  {
   "cell_type": "code",
   "execution_count": 20,
   "id": "0857edcd-a197-459d-a2b4-8c01aa7499f7",
   "metadata": {},
   "outputs": [],
   "source": [
    "cv = CrossValidator(estimator=als, estimatorParamMaps=param_grid, evaluator=evaluator, numFolds=5)"
   ]
  },
  {
   "cell_type": "markdown",
   "id": "f16a7cd1",
   "metadata": {},
   "source": [
    "<h3>Fit Model<h3>"
   ]
  },
  {
   "cell_type": "code",
   "execution_count": 21,
   "id": "90033cda-ee36-45c6-ae01-3e241c3ffebe",
   "metadata": {},
   "outputs": [],
   "source": [
    "model = cv.fit(train)"
   ]
  },
  {
   "cell_type": "markdown",
   "id": "953acca8",
   "metadata": {},
   "source": [
    "<h3>Select Best Model<h3>"
   ]
  },
  {
   "cell_type": "code",
   "execution_count": 25,
   "id": "f518df19-dedb-445f-9896-a56d43006d68",
   "metadata": {},
   "outputs": [],
   "source": [
    "best_model = model.bestModel"
   ]
  },
  {
   "cell_type": "markdown",
   "id": "62ba35da",
   "metadata": {},
   "source": [
    "<h3>Model Result<h3>"
   ]
  },
  {
   "cell_type": "code",
   "execution_count": 30,
   "id": "29fe3e0b-c704-43ff-8c12-16ecfda3d7d4",
   "metadata": {},
   "outputs": [
    {
     "name": "stdout",
     "output_type": "stream",
     "text": [
      "0.9277270814484029\n"
     ]
    }
   ],
   "source": [
    "test_predictions = best_model.transform(test)\n",
    "RMSE = evaluator.evaluate(test_predictions)\n",
    "print(RMSE)"
   ]
  },
  {
   "cell_type": "markdown",
   "id": "84a8369f",
   "metadata": {},
   "source": [
    "<h3>Recommend For All Users 5 Movie<h3>"
   ]
  },
  {
   "cell_type": "code",
   "execution_count": 34,
   "id": "81b96dd8-9d0f-4eed-a254-868bc40fd3c2",
   "metadata": {},
   "outputs": [
    {
     "name": "stderr",
     "output_type": "stream",
     "text": [
      "C:\\Users\\10010917\\Anaconda3\\lib\\site-packages\\pyspark\\sql\\context.py:125: FutureWarning: Deprecated in 3.0.0. Use SparkSession.builder.getOrCreate() instead.\n",
      "  warnings.warn(\n"
     ]
    },
    {
     "name": "stdout",
     "output_type": "stream",
     "text": [
      "+------+--------------------+\n",
      "|userId|     recommendations|\n",
      "+------+--------------------+\n",
      "|     1|[{8675, 4.540138}...|\n",
      "|     3|[{8675, 5.6698346...|\n",
      "|     5|[{5570, 4.627322}...|\n",
      "|     6|[{115170, 4.80307...|\n",
      "|     9|[{8675, 5.1065087...|\n",
      "|    12|[{8675, 4.3357286...|\n",
      "|    13|[{8675, 5.090038}...|\n",
      "|    15|[{2647, 4.8586903...|\n",
      "|    16|[{31116, 4.559248...|\n",
      "|    17|[{31116, 4.812059...|\n",
      "|    19|[{8675, 5.0115213...|\n",
      "|    20|[{8675, 5.3883734...|\n",
      "|    22|[{53318, 4.798818...|\n",
      "|    26|[{8675, 5.0120754...|\n",
      "|    27|[{8675, 5.3096685...|\n",
      "|    28|[{3637, 4.3964314...|\n",
      "|    31|[{7335, 4.8536677...|\n",
      "|    34|[{8675, 4.5817814...|\n",
      "|    35|[{8675, 4.9572916...|\n",
      "|    37|[{8675, 4.8997564...|\n",
      "+------+--------------------+\n",
      "only showing top 20 rows\n",
      "\n"
     ]
    }
   ],
   "source": [
    "recommendations = best_model.recommendForAllUsers(5)\n",
    "recommendations.show()"
   ]
  },
  {
   "cell_type": "markdown",
   "id": "c89ca261",
   "metadata": {},
   "source": [
    "<h3>Explode movieId and rating<h3>"
   ]
  },
  {
   "cell_type": "code",
   "execution_count": 63,
   "id": "b23d5e13-54ef-42a8-957c-15b0fbd30bed",
   "metadata": {},
   "outputs": [
    {
     "name": "stdout",
     "output_type": "stream",
     "text": [
      "+------+-------+---------+\n",
      "|userId|movieId|   rating|\n",
      "+------+-------+---------+\n",
      "|     1|   8675| 4.540138|\n",
      "|     1|   7338| 4.540138|\n",
      "|     1|   4710| 4.405482|\n",
      "|     1|   4337| 4.259174|\n",
      "|     1|  31116| 4.193966|\n",
      "|     3|   8675|5.6698346|\n",
      "|     3|   7338|5.6698346|\n",
      "|     3|  31116|5.5037985|\n",
      "|     3|   1428| 5.225751|\n",
      "|     3|    951|5.1894836|\n",
      "+------+-------+---------+\n",
      "\n"
     ]
    }
   ],
   "source": [
    "nrecommendations = recommendations\\\n",
    "    .withColumn(\"rec_exp\", explode(\"recommendations\"))\\\n",
    "    .select('userId', col(\"rec_exp.movieId\"), col(\"rec_exp.rating\"))\n",
    "nrecommendations.limit(10).show()"
   ]
  },
  {
   "cell_type": "markdown",
   "id": "582582c1",
   "metadata": {},
   "source": [
    "<h3>Recommend One User<h3>"
   ]
  },
  {
   "cell_type": "code",
   "execution_count": 109,
   "id": "10b876b6-0bf5-4662-9417-c17e2a0e013f",
   "metadata": {},
   "outputs": [
    {
     "name": "stdout",
     "output_type": "stream",
     "text": [
      "+-------+------+--------+--------------------+----+-----------------+\n",
      "|movieId|userId|  rating|               title|year|           genres|\n",
      "+-------+------+--------+--------------------+----+-----------------+\n",
      "|   8675|     1|4.540138| b'Enemy Below, The'|1957| Action|Drama|War|\n",
      "|   7338|     1|4.540138|      b'Richard III'|1955|        Drama|War|\n",
      "|   4710|     1|4.405482|    b'Shootist, The'|1976|    Drama|Western|\n",
      "|   4337|     1|4.259174|b'Sand Pebbles, The'|1966|Drama|Romance|War|\n",
      "|  31116|     1|4.193966|    b'Sergeant York'|1941|        Drama|War|\n",
      "+-------+------+--------+--------------------+----+-----------------+\n",
      "\n"
     ]
    }
   ],
   "source": [
    "nrecommendations.join(moviesDf, on='movieId').filter('userId = 1').show()"
   ]
  },
  {
   "cell_type": "markdown",
   "id": "af19a9d1",
   "metadata": {},
   "source": [
    "<h3>User Ratings<h3>"
   ]
  },
  {
   "cell_type": "code",
   "execution_count": 106,
   "id": "0d9a0482-051b-4f4e-882a-267ca556988e",
   "metadata": {},
   "outputs": [
    {
     "data": {
      "text/html": [
       "<table border='1'>\n",
       "<tr><th>genres</th><th>count</th></tr>\n",
       "<tr><td>Crime|Drama</td><td>10</td></tr>\n",
       "<tr><td>Action|Adventure|...</td><td>7</td></tr>\n",
       "<tr><td>Drama</td><td>6</td></tr>\n",
       "<tr><td>Action|Adventure|...</td><td>6</td></tr>\n",
       "<tr><td>Horror</td><td>6</td></tr>\n",
       "<tr><td>Action|Crime|Thri...</td><td>5</td></tr>\n",
       "<tr><td>Action|Crime|Dram...</td><td>4</td></tr>\n",
       "<tr><td>Crime|Drama|Thriller</td><td>4</td></tr>\n",
       "<tr><td>Crime|Film-Noir|M...</td><td>4</td></tr>\n",
       "<tr><td>Action|Sci-Fi|Thr...</td><td>4</td></tr>\n",
       "<tr><td>Drama|Mystery|Thr...</td><td>4</td></tr>\n",
       "<tr><td>Horror|Thriller</td><td>4</td></tr>\n",
       "<tr><td>Action|Drama|War</td><td>4</td></tr>\n",
       "<tr><td>Crime|Thriller</td><td>3</td></tr>\n",
       "<tr><td>Adventure|Comedy|...</td><td>3</td></tr>\n",
       "<tr><td>Thriller</td><td>3</td></tr>\n",
       "<tr><td>Action|Comedy|Cri...</td><td>3</td></tr>\n",
       "<tr><td>Horror|Mystery</td><td>3</td></tr>\n",
       "<tr><td>Horror|Sci-Fi|Thr...</td><td>3</td></tr>\n",
       "<tr><td>Comedy|Crime|Dram...</td><td>3</td></tr>\n",
       "</table>\n",
       "only showing top 20 rows\n"
      ],
      "text/plain": [
       "+--------------------+-----+\n",
       "|              genres|count|\n",
       "+--------------------+-----+\n",
       "|         Crime|Drama|   10|\n",
       "|Action|Adventure|...|    7|\n",
       "|               Drama|    6|\n",
       "|Action|Adventure|...|    6|\n",
       "|              Horror|    6|\n",
       "|Action|Crime|Thri...|    5|\n",
       "|Action|Crime|Dram...|    4|\n",
       "|Crime|Drama|Thriller|    4|\n",
       "|Crime|Film-Noir|M...|    4|\n",
       "|Action|Sci-Fi|Thr...|    4|\n",
       "|Drama|Mystery|Thr...|    4|\n",
       "|     Horror|Thriller|    4|\n",
       "|    Action|Drama|War|    4|\n",
       "|      Crime|Thriller|    3|\n",
       "|Adventure|Comedy|...|    3|\n",
       "|            Thriller|    3|\n",
       "|Action|Comedy|Cri...|    3|\n",
       "|      Horror|Mystery|    3|\n",
       "|Horror|Sci-Fi|Thr...|    3|\n",
       "|Comedy|Crime|Dram...|    3|\n",
       "+--------------------+-----+\n",
       "only showing top 20 rows"
      ]
     },
     "execution_count": 106,
     "metadata": {},
     "output_type": "execute_result"
    }
   ],
   "source": [
    "data.groupBy('genres').count().sort(col(\"count\").desc())"
   ]
  },
  {
   "cell_type": "code",
   "execution_count": null,
   "id": "cc694784",
   "metadata": {},
   "outputs": [
    {
     "ename": "",
     "evalue": "",
     "output_type": "error",
     "traceback": [
      "\u001b[1;31mRunning cells with 'Python 3.10.4 64-bit' requires ipykernel package.\n",
      "Run the following command to install 'ipykernel' into the Python environment. \n",
      "Command: 'C:/Python310/python.exe -m pip install ipykernel -U --user --force-reinstall'"
     ]
    }
   ],
   "source": []
  },
  {
   "cell_type": "code",
   "execution_count": null,
   "id": "011bdb82",
   "metadata": {},
   "outputs": [],
   "source": []
  }
 ],
 "metadata": {
  "kernelspec": {
   "display_name": "Python 3",
   "language": "python",
   "name": "python3"
  },
  "language_info": {
   "codemirror_mode": {
    "name": "ipython",
    "version": 3
   },
   "file_extension": ".py",
   "mimetype": "text/x-python",
   "name": "python",
   "nbconvert_exporter": "python",
   "pygments_lexer": "ipython3",
   "version": "3.10.4"
  }
 },
 "nbformat": 4,
 "nbformat_minor": 5
}
