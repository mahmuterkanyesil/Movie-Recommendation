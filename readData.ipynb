{
 "cells": [
  {
   "cell_type": "markdown",
   "id": "8a3b62a8-3c78-4917-9d7d-4e008a221e3a",
   "metadata": {},
   "source": [
    "<h3>Imports<h3>"
   ]
  },
  {
   "cell_type": "code",
   "execution_count": 2,
   "id": "eba121c8-79a9-4c5e-9981-568da970d1fd",
   "metadata": {},
   "outputs": [],
   "source": [
    "import sqlite3\n",
    "import csv\n",
    "from pyspark.sql import SparkSession, SQLContext\n",
    "from pyspark import SparkContext, SparkConf\n",
    "from pyspark.sql.functions import *"
   ]
  },
  {
   "cell_type": "markdown",
   "id": "d9007901-4ca3-4915-878e-45c987dc01a3",
   "metadata": {},
   "source": [
    "<h3>Configs<h3>"
   ]
  },
  {
   "cell_type": "code",
   "execution_count": 3,
   "id": "fd569f8c-4f16-4720-9cc9-cb46a8d221cd",
   "metadata": {},
   "outputs": [
    {
     "name": "stderr",
     "output_type": "stream",
     "text": [
      "C:\\Users\\10010917\\Anaconda3\\lib\\site-packages\\pyspark\\sql\\context.py:77: FutureWarning: Deprecated in 3.0.0. Use SparkSession.builder.getOrCreate() instead.\n",
      "  warnings.warn(\n"
     ]
    }
   ],
   "source": [
    "spark = SparkSession.builder.master(\"local[*]\").getOrCreate()\n",
    "spark.conf.set(\"spark.sql.repl.eagerEval.enabled\", True) # Property used to format output tables better\n",
    "\n",
    "\n",
    "conf = SparkConf() \\\n",
    ".setAppName('app') \\\n",
    ".setMaster(\"local[*]\")\n",
    "\n",
    "sc = SparkContext.getOrCreate(conf=conf)\n",
    "\n",
    "sqlContext = SQLContext(sc)"
   ]
  },
  {
   "cell_type": "markdown",
   "id": "b23c2b3f-1157-4c63-82e3-7caf3b9d925a",
   "metadata": {},
   "source": [
    "<h3>Read Data From .db<h3>"
   ]
  },
  {
   "cell_type": "code",
   "execution_count": 4,
   "id": "7ae8d3c0-f1e4-43c1-be34-209befd2bc22",
   "metadata": {},
   "outputs": [],
   "source": [
    "# Create your connection.\n",
    "conn = sqlite3.connect('C:/Users/10010917/Desktop/a/test/movielens-small.db')\n",
    "c = conn.cursor()"
   ]
  },
  {
   "cell_type": "code",
   "execution_count": 5,
   "id": "15992166-24b6-4863-81a6-aa2dd97f0386",
   "metadata": {},
   "outputs": [],
   "source": [
    "links = c.execute('SELECT * FROM links')\n",
    "links = links.fetchall()\n",
    "\n",
    "movies = c.execute('SELECT * FROM movies')\n",
    "movies = movies.fetchall()\n",
    "\n",
    "ratings = c.execute('SELECT * FROM ratings')\n",
    "ratings = ratings.fetchall()\n",
    "\n",
    "tags = c.execute('SELECT * FROM tags')\n",
    "tags = tags.fetchall()"
   ]
  },
  {
   "cell_type": "markdown",
   "id": "cda28562-5125-4915-aa03-3aafc6a22f0e",
   "metadata": {},
   "source": [
    "<h3>Convert Csv<h3>"
   ]
  },
  {
   "cell_type": "code",
   "execution_count": 5,
   "id": "4b7c65c7-9214-401b-9bad-640697e7c166",
   "metadata": {},
   "outputs": [],
   "source": [
    "with open('links.csv','w') as out:\n",
    "    csv_out=csv.writer(out)\n",
    "    csv_out.writerow(['movieId','imdbId', 'tmdbId'])\n",
    "    for row in links:\n",
    "        csv_out.writerow(row)\n",
    "        \n",
    "with open('movies.csv','w') as out:\n",
    "    csv_out=csv.writer(out)\n",
    "    csv_out.writerow(['movieId','title', 'year', 'genres'])\n",
    "    for row in movies:\n",
    "        movieId = row[0]\n",
    "        title = row[1].encode(errors='ignore')\n",
    "        year = row[2]\n",
    "        genres = row[3]\n",
    "        newRow = (movieId, title, year, genres)\n",
    "        csv_out.writerow(newRow)\n",
    "        \n",
    "with open('ratings.csv','w') as out:\n",
    "    csv_out=csv.writer(out)\n",
    "    csv_out.writerow(['userId','movieId', 'rating', 'timestamp'])\n",
    "    for row in ratings:\n",
    "        csv_out.writerow(row)\n",
    "        \n",
    "with open('tags.csv','w') as out:\n",
    "    csv_out=csv.writer(out)\n",
    "    csv_out.writerow(['userId','movieId', 'tag', 'timestamp'])\n",
    "    for row in tags:\n",
    "        csv_out.writerow(row)"
   ]
  },
  {
   "cell_type": "markdown",
   "id": "a1e8cc83-a3fd-4363-b8d8-e27f08ea05b6",
   "metadata": {},
   "source": [
    "<h3>Csv to DataFrame<h3>"
   ]
  },
  {
   "cell_type": "code",
   "execution_count": 6,
   "id": "282ff0b4-791b-4b30-a21a-5a06a09e5afb",
   "metadata": {},
   "outputs": [],
   "source": [
    "linksDf   = spark.read.format(\"csv\").load(\"links.csv\",   header=True).cache()\n",
    "moviesDf  = spark.read.format(\"csv\").load(\"movies.csv\",  header=True).cache()\n",
    "ratingsDf = spark.read.format(\"csv\").load(\"ratings.csv\", header=True).cache()\n",
    "tagsDf    = spark.read.format(\"csv\").load(\"tags.csv\",    header=True).cache()"
   ]
  },
  {
   "cell_type": "markdown",
   "id": "eca1bea2-2f0f-4cdc-9dcc-caf038828502",
   "metadata": {},
   "source": [
    "<h2>Join Two Table<h2>"
   ]
  },
  {
   "cell_type": "code",
   "execution_count": null,
   "id": "2064774c-d2ec-40d5-8b11-5a600234c435",
   "metadata": {},
   "outputs": [],
   "source": [
    "queryResultJ = moviesDf.join(ratingsDf, moviesDf.movieId == ratingsDf.movieId) \\\n",
    "    .select(ratingsDf.userId, moviesDf.movieId, moviesDf.genres, ratingsDf.rating)"
   ]
  },
  {
   "cell_type": "code",
   "execution_count": null,
   "id": "c3431216-31de-4cc0-95c9-44848ce4607a",
   "metadata": {},
   "outputs": [
    {
     "data": {
      "text/html": [
       "<table border='1'>\n",
       "<tr><th>userId</th><th>movieId</th><th>genres</th><th>rating</th></tr>\n",
       "<tr><td>1</td><td>6</td><td>Action|Crime|Thri...</td><td>2.0</td></tr>\n",
       "<tr><td>1</td><td>22</td><td>Crime|Drama|Horro...</td><td>3.0</td></tr>\n",
       "<tr><td>1</td><td>32</td><td>Mystery|Sci-Fi|Th...</td><td>2.0</td></tr>\n",
       "<tr><td>1</td><td>50</td><td>Crime|Mystery|Thr...</td><td>5.0</td></tr>\n",
       "<tr><td>1</td><td>110</td><td>Action|Drama|War</td><td>4.0</td></tr>\n",
       "<tr><td>1</td><td>164</td><td>Crime|Film-Noir|M...</td><td>3.0</td></tr>\n",
       "<tr><td>1</td><td>198</td><td>Action|Crime|Dram...</td><td>3.0</td></tr>\n",
       "<tr><td>1</td><td>260</td><td>Action|Adventure|...</td><td>5.0</td></tr>\n",
       "<tr><td>1</td><td>296</td><td>Comedy|Crime|Dram...</td><td>4.0</td></tr>\n",
       "<tr><td>1</td><td>303</td><td>Action|Thriller|W...</td><td>3.0</td></tr>\n",
       "<tr><td>1</td><td>318</td><td>Crime|Drama</td><td>3.0</td></tr>\n",
       "<tr><td>1</td><td>350</td><td>Drama|Mystery|Thr...</td><td>3.0</td></tr>\n",
       "<tr><td>1</td><td>366</td><td>1994</td><td>2.0</td></tr>\n",
       "<tr><td>1</td><td>367</td><td>Action|Comedy|Cri...</td><td>4.0</td></tr>\n",
       "<tr><td>1</td><td>431</td><td>Crime|Drama</td><td>2.0</td></tr>\n",
       "<tr><td>1</td><td>432</td><td>Adventure|Comedy|...</td><td>2.0</td></tr>\n",
       "<tr><td>1</td><td>451</td><td>Drama|Mystery|Rom...</td><td>1.0</td></tr>\n",
       "<tr><td>1</td><td>457</td><td>Thriller</td><td>4.0</td></tr>\n",
       "<tr><td>1</td><td>474</td><td>Action|Thriller</td><td>3.0</td></tr>\n",
       "<tr><td>1</td><td>480</td><td>Action|Adventure|...</td><td>4.0</td></tr>\n",
       "</table>\n",
       "only showing top 20 rows\n"
      ],
      "text/plain": [
       "+------+-------+--------------------+------+\n",
       "|userId|movieId|              genres|rating|\n",
       "+------+-------+--------------------+------+\n",
       "|     1|      6|Action|Crime|Thri...|   2.0|\n",
       "|     1|     22|Crime|Drama|Horro...|   3.0|\n",
       "|     1|     32|Mystery|Sci-Fi|Th...|   2.0|\n",
       "|     1|     50|Crime|Mystery|Thr...|   5.0|\n",
       "|     1|    110|    Action|Drama|War|   4.0|\n",
       "|     1|    164|Crime|Film-Noir|M...|   3.0|\n",
       "|     1|    198|Action|Crime|Dram...|   3.0|\n",
       "|     1|    260|Action|Adventure|...|   5.0|\n",
       "|     1|    296|Comedy|Crime|Dram...|   4.0|\n",
       "|     1|    303|Action|Thriller|W...|   3.0|\n",
       "|     1|    318|         Crime|Drama|   3.0|\n",
       "|     1|    350|Drama|Mystery|Thr...|   3.0|\n",
       "|     1|    366|                1994|   2.0|\n",
       "|     1|    367|Action|Comedy|Cri...|   4.0|\n",
       "|     1|    431|         Crime|Drama|   2.0|\n",
       "|     1|    432|Adventure|Comedy|...|   2.0|\n",
       "|     1|    451|Drama|Mystery|Rom...|   1.0|\n",
       "|     1|    457|            Thriller|   4.0|\n",
       "|     1|    474|     Action|Thriller|   3.0|\n",
       "|     1|    480|Action|Adventure|...|   4.0|\n",
       "+------+-------+--------------------+------+\n",
       "only showing top 20 rows"
      ]
     },
     "execution_count": 8,
     "metadata": {},
     "output_type": "execute_result"
    }
   ],
   "source": [
    "queryResultTaskJ\n"
   ]
  },
  {
   "cell_type": "markdown",
   "id": "3c0e09bd-d3ed-4492-bda5-bb437c546ae1",
   "metadata": {
    "tags": []
   },
   "source": [
    "<h2>Count ratings for each movie, and list top 5 movies with the highest value<h2>"
   ]
  },
  {
   "cell_type": "code",
   "execution_count": null,
   "id": "4fb35ce8-2986-49e6-9b7b-094778105a78",
   "metadata": {},
   "outputs": [],
   "source": [
    "queryResultB =  queryResultTaskA.groupBy('movieId').agg(\\\n",
    "                                                            count('rating').alias('count_ratings'),\n",
    "                                                            avg('rating').alias('avg_rating'), \\\n",
    "                                                            ).sort(col('count_ratings').desc())"
   ]
  },
  {
   "cell_type": "markdown",
   "id": "fc85d0a0-1652-4445-a306-5a572ca4e461",
   "metadata": {},
   "source": [
    "<h2>Top 5 most rated genres<h>"
   ]
  },
  {
   "cell_type": "code",
   "execution_count": null,
   "id": "69072bcd-f415-4bc2-875b-86d60036b179",
   "metadata": {},
   "outputs": [
    {
     "name": "stdout",
     "output_type": "stream",
     "text": [
      "+-------+-------------+------------------+\n",
      "|movieId|count_ratings|        avg_rating|\n",
      "+-------+-------------+------------------+\n",
      "|    593|          337| 4.235905044510385|\n",
      "|    318|          328| 4.442073170731708|\n",
      "|    296|          327| 4.137614678899083|\n",
      "|    480|          324|3.6018518518518516|\n",
      "|    356|          318| 3.908805031446541|\n",
      "+-------+-------------+------------------+\n",
      "only showing top 5 rows\n",
      "\n"
     ]
    }
   ],
   "source": [
    "queryResultB.show(5)"
   ]
  },
  {
   "cell_type": "code",
   "execution_count": null,
   "id": "fb621b93-984a-4df2-a67f-f8338855544f",
   "metadata": {},
   "outputs": [],
   "source": [
    "queryResultC =  queryResultTaskA.groupBy('genres').count().sort(col(\"count\").desc())"
   ]
  },
  {
   "cell_type": "code",
   "execution_count": null,
   "id": "fdddc772-eba6-4e20-87ef-440a6a41202a",
   "metadata": {},
   "outputs": [
    {
     "name": "stdout",
     "output_type": "stream",
     "text": [
      "+--------------+-----+\n",
      "|        genres|count|\n",
      "+--------------+-----+\n",
      "|         Drama| 6927|\n",
      "|        Comedy| 6364|\n",
      "|Comedy|Romance| 3744|\n",
      "| Drama|Romance| 3114|\n",
      "|  Comedy|Drama| 2993|\n",
      "+--------------+-----+\n",
      "only showing top 5 rows\n",
      "\n"
     ]
    }
   ],
   "source": [
    "queryResultC.show(5)"
   ]
  }
 ],
 "metadata": {
  "kernelspec": {
   "display_name": "Python 3",
   "language": "python",
   "name": "python3"
  },
  "language_info": {
   "codemirror_mode": {
    "name": "ipython",
    "version": 3
   },
   "file_extension": ".py",
   "mimetype": "text/x-python",
   "name": "python",
   "nbconvert_exporter": "python",
   "pygments_lexer": "ipython3",
   "version": "3.8.8"
  }
 },
 "nbformat": 4,
 "nbformat_minor": 5
}
